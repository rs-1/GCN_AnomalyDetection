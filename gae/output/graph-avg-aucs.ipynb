{
 "cells": [
  {
   "cell_type": "code",
   "execution_count": 1,
   "metadata": {},
   "outputs": [],
   "source": [
    "import numpy as np\n",
    "import pandas as pd\n",
    "import matplotlib.pyplot as plt\n",
    "import random\n",
    "import os"
   ]
  },
  {
   "cell_type": "code",
   "execution_count": 2,
   "metadata": {},
   "outputs": [],
   "source": [
    "DATASETS = [\n",
    "    'acm_test_final',\n",
    "    'BlogCatalog',\n",
    "    'Flickr1',\n",
    "]\n",
    "TARG_DIR = '10-avg-300-auc-acm-blog-flickr'\n",
    "TARG_NAME = 'aucs.csv'\n",
    "TARG_FILE = os.path.join(TARG_DIR, TARG_NAME)"
   ]
  },
  {
   "cell_type": "code",
   "execution_count": 3,
   "metadata": {},
   "outputs": [
    {
     "data": {
      "text/html": [
       "<div>\n",
       "<style scoped>\n",
       "    .dataframe tbody tr th:only-of-type {\n",
       "        vertical-align: middle;\n",
       "    }\n",
       "\n",
       "    .dataframe tbody tr th {\n",
       "        vertical-align: top;\n",
       "    }\n",
       "\n",
       "    .dataframe thead th {\n",
       "        text-align: right;\n",
       "    }\n",
       "</style>\n",
       "<table border=\"1\" class=\"dataframe\">\n",
       "  <thead>\n",
       "    <tr style=\"text-align: right;\">\n",
       "      <th></th>\n",
       "      <th>Source</th>\n",
       "      <th>Alpha</th>\n",
       "      <th>AUC</th>\n",
       "      <th>CumulativeTime</th>\n",
       "    </tr>\n",
       "  </thead>\n",
       "  <tbody>\n",
       "    <tr>\n",
       "      <td>0</td>\n",
       "      <td>BlogCatalog</td>\n",
       "      <td>0.0</td>\n",
       "      <td>0.731544</td>\n",
       "      <td>6297</td>\n",
       "    </tr>\n",
       "    <tr>\n",
       "      <td>1</td>\n",
       "      <td>BlogCatalog</td>\n",
       "      <td>0.1</td>\n",
       "      <td>0.851630</td>\n",
       "      <td>12631</td>\n",
       "    </tr>\n",
       "    <tr>\n",
       "      <td>2</td>\n",
       "      <td>BlogCatalog</td>\n",
       "      <td>0.2</td>\n",
       "      <td>0.813684</td>\n",
       "      <td>18987</td>\n",
       "    </tr>\n",
       "    <tr>\n",
       "      <td>3</td>\n",
       "      <td>BlogCatalog</td>\n",
       "      <td>0.3</td>\n",
       "      <td>0.799494</td>\n",
       "      <td>25356</td>\n",
       "    </tr>\n",
       "    <tr>\n",
       "      <td>4</td>\n",
       "      <td>BlogCatalog</td>\n",
       "      <td>0.4</td>\n",
       "      <td>0.792387</td>\n",
       "      <td>31732</td>\n",
       "    </tr>\n",
       "    <tr>\n",
       "      <td>...</td>\n",
       "      <td>...</td>\n",
       "      <td>...</td>\n",
       "      <td>...</td>\n",
       "      <td>...</td>\n",
       "    </tr>\n",
       "    <tr>\n",
       "      <td>242</td>\n",
       "      <td>acm_test_final</td>\n",
       "      <td>0.6</td>\n",
       "      <td>0.824464</td>\n",
       "      <td>45489</td>\n",
       "    </tr>\n",
       "    <tr>\n",
       "      <td>243</td>\n",
       "      <td>acm_test_final</td>\n",
       "      <td>0.7</td>\n",
       "      <td>0.824870</td>\n",
       "      <td>51990</td>\n",
       "    </tr>\n",
       "    <tr>\n",
       "      <td>244</td>\n",
       "      <td>acm_test_final</td>\n",
       "      <td>0.8</td>\n",
       "      <td>0.843971</td>\n",
       "      <td>58488</td>\n",
       "    </tr>\n",
       "    <tr>\n",
       "      <td>245</td>\n",
       "      <td>acm_test_final</td>\n",
       "      <td>0.9</td>\n",
       "      <td>0.839763</td>\n",
       "      <td>64987</td>\n",
       "    </tr>\n",
       "    <tr>\n",
       "      <td>246</td>\n",
       "      <td>acm_test_final</td>\n",
       "      <td>1.0</td>\n",
       "      <td>0.839764</td>\n",
       "      <td>71483</td>\n",
       "    </tr>\n",
       "  </tbody>\n",
       "</table>\n",
       "<p>247 rows × 4 columns</p>\n",
       "</div>"
      ],
      "text/plain": [
       "             Source  Alpha       AUC  CumulativeTime\n",
       "0       BlogCatalog    0.0  0.731544            6297\n",
       "1       BlogCatalog    0.1  0.851630           12631\n",
       "2       BlogCatalog    0.2  0.813684           18987\n",
       "3       BlogCatalog    0.3  0.799494           25356\n",
       "4       BlogCatalog    0.4  0.792387           31732\n",
       "..              ...    ...       ...             ...\n",
       "242  acm_test_final    0.6  0.824464           45489\n",
       "243  acm_test_final    0.7  0.824870           51990\n",
       "244  acm_test_final    0.8  0.843971           58488\n",
       "245  acm_test_final    0.9  0.839763           64987\n",
       "246  acm_test_final    1.0  0.839764           71483\n",
       "\n",
       "[247 rows x 4 columns]"
      ]
     },
     "execution_count": 3,
     "metadata": {},
     "output_type": "execute_result"
    }
   ],
   "source": [
    "df = pd.read_csv(TARG_FILE, names=['Source', 'Alpha', 'AUC', 'CumulativeTime'])\n",
    "#Uncomment to zoom in on higher alphas\n",
    "#df = df[ df['Alpha']>0.01 ]\n",
    "df"
   ]
  },
  {
   "cell_type": "code",
   "execution_count": 4,
   "metadata": {},
   "outputs": [
    {
     "data": {
      "image/png": "[encoded data removed]",
      "text/plain": [
       "<Figure size 432x288 with 1 Axes>"
      ]
     },
     "metadata": {
      "needs_background": "light"
     },
     "output_type": "display_data"
    }
   ],
   "source": [
    "for d in DATASETS:\n",
    "    desc = df[ df['Source']==d ].groupby('Alpha').describe()\n",
    "    alphas = desc.index\n",
    "    aucs = desc[('AUC',  'mean')]\n",
    "    stds = desc[('AUC',  'std')]\n",
    "    plt.errorbar(x=alphas, y=aucs, yerr=stds, capsize=5, marker='D', label=d)\n",
    "\n",
    "plt.xlabel('Network    <====    Alpha    ====>    Attributes')\n",
    "plt.ylabel('AUC')\n",
    "plt.title(f'Dataset AUCs vs Alpha (attribute/network weighting)\\n{TARG_FILE}')\n",
    "plt.legend(bbox_to_anchor=(1, 1))\n",
    "plt.show()"
   ]
  }
 ],
 "metadata": {
  "kernelspec": {
   "display_name": "Python 3",
   "language": "python",
   "name": "python3"
  },
  "language_info": {
   "codemirror_mode": {
    "name": "ipython",
    "version": 3
   },
   "file_extension": ".py",
   "mimetype": "text/x-python",
   "name": "python",
   "nbconvert_exporter": "python",
   "pygments_lexer": "ipython3",
   "version": "3.7.4"
  }
 },
 "nbformat": 4,
 "nbformat_minor": 2
}
